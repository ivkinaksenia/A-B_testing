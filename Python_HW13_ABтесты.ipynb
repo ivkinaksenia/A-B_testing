{
 "cells": [
  {
   "cell_type": "markdown",
   "metadata": {
    "id": "ztPv6Kb-ILDp"
   },
   "source": [
    "# Домашнее задание 4.1\n",
    "\n",
    "# 🥨👨🏻‍🍳🥐🥖\n",
    "\n",
    "Тест с картинками оказался в итоге успешным, и теперь мы хотим усилить визуальный контент. Есть идея, что если мы сделаем не одну картинку, а еще и добавим видео производства наших изделий, то пользователь будет принимать решение о покупке охотнее и быстрее, и конверсия в заказ вырастет. \n",
    "\n",
    "__Продакт вернул нам такой дизайн эксперимента:__\n",
    "\n",
    "*1. `Бизнес-проблема:`* мы считаем, что конверсии из визита в покупку в нашем магазине недостаточно высоки. Мы посмотрели на страницы конкурентов и поняли, что у нас есть возможность увеличить объем продаж, если мы еще немного изменим дизайн страницы с каталогом продукции. \n",
    "\n",
    "*2. `Гипотеза:`* предполагается, что добавление видео с процессом приготовления вкусностей мотивирует к их покупке и позволяет добиться двух эффектов:\n",
    "   * повышение конверсии из визита в оплату (больше людей захотят купить нашу продукцию)\n",
    "   * как минимум, не снижение среднего чека покупки, а в идеале — увеличение\n",
    "    \n",
    "*3. `Ожидаемые действия пользователей:`* мы ожидаем, что, увидев видео с процессом приготовления вкусностей вместе с описанием продукции, больше людей захотят сделать покупку, а возможно — в среднем будут покупать больше продукции в одном заказе.\n",
    "\n",
    "*4. `Эксперимент будет считаться успешным, если:`*\n",
    "   * конверсия из визита в покупку с окном в 7 дней повысится\n",
    "   * средний чек покупки не снизится\n",
    "\n",
    "\n",
    "## Что нужно сделать?\n",
    "\n",
    "Проанализировать данные нового теста и дать свои комментарии о его успешности. Можно ли выкатывать изменение на всех пользователей?\n",
    "\n",
    "1. Выбрать окно конверсии\n",
    "2. Исследовать распределение пользователей по группам по основным сегментам\n",
    "3. Оценить статистическую значимость в изменении конверсии с помощью критерия хи-квадрат\n",
    "4. Вычислить мощность теста\n",
    "5. Использовать бутстрап для оценки влияния теста на средний чек\n",
    "6. Сделать вывод по результатам проведенного теста "
   ]
  },
  {
   "cell_type": "markdown",
   "metadata": {
    "id": "hppSG_9JbL0s"
   },
   "source": [
    "## Задание 1. Выбери окно конверсии, используя исторические данные \n",
    "\n",
    "**1. Прочитай файл investigate_window.csv.**\n",
    "   - Запиши даннные в переменную `historical_data`\n",
    "    \n",
    "   - Отправь безымянную колонку с нумерацией в индекс с помощью аргумента функции `read_csv()`.\n",
    "   \n",
    "   - Проверь, какой тип данных в каждой колонке, и переведи столбцы с датами в формат даты. "
   ]
  },
  {
   "cell_type": "code",
   "execution_count": 1,
   "metadata": {
    "id": "bZRgs094bL0v"
   },
   "outputs": [],
   "source": [
    "import pandas as pd"
   ]
  },
  {
   "cell_type": "code",
   "execution_count": 2,
   "metadata": {
    "id": "Sk2xONPmbL0x"
   },
   "outputs": [],
   "source": [
    "historical_data = pd.read_csv('investigate_window.csv')"
   ]
  },
  {
   "cell_type": "code",
   "execution_count": 3,
   "metadata": {
    "id": "dS3UJGDhbL0x",
    "outputId": "4d8207fa-32d3-44f3-de6f-072b393742b4"
   },
   "outputs": [
    {
     "data": {
      "text/html": [
       "<div>\n",
       "<style scoped>\n",
       "    .dataframe tbody tr th:only-of-type {\n",
       "        vertical-align: middle;\n",
       "    }\n",
       "\n",
       "    .dataframe tbody tr th {\n",
       "        vertical-align: top;\n",
       "    }\n",
       "\n",
       "    .dataframe thead th {\n",
       "        text-align: right;\n",
       "    }\n",
       "</style>\n",
       "<table border=\"1\" class=\"dataframe\">\n",
       "  <thead>\n",
       "    <tr style=\"text-align: right;\">\n",
       "      <th></th>\n",
       "      <th>Unnamed: 0</th>\n",
       "      <th>user_id</th>\n",
       "      <th>main_page_viewed_at</th>\n",
       "      <th>order_completed_at</th>\n",
       "      <th>time_to_order</th>\n",
       "    </tr>\n",
       "  </thead>\n",
       "  <tbody>\n",
       "    <tr>\n",
       "      <th>0</th>\n",
       "      <td>0</td>\n",
       "      <td>959238</td>\n",
       "      <td>2020-11-20 23:55:02.759000+00:00</td>\n",
       "      <td>2020-11-30 02:22:32.759000+00:00</td>\n",
       "      <td>9.102431</td>\n",
       "    </tr>\n",
       "    <tr>\n",
       "      <th>1</th>\n",
       "      <td>1</td>\n",
       "      <td>337366</td>\n",
       "      <td>2020-12-05 23:41:42.244000+00:00</td>\n",
       "      <td>2020-12-12 22:25:52.244000+00:00</td>\n",
       "      <td>6.947338</td>\n",
       "    </tr>\n",
       "    <tr>\n",
       "      <th>2</th>\n",
       "      <td>2</td>\n",
       "      <td>259956</td>\n",
       "      <td>2020-11-20 23:33:53.269000+00:00</td>\n",
       "      <td>2020-11-25 13:08:03.269000+00:00</td>\n",
       "      <td>4.565394</td>\n",
       "    </tr>\n",
       "    <tr>\n",
       "      <th>3</th>\n",
       "      <td>3</td>\n",
       "      <td>534280</td>\n",
       "      <td>2020-11-28 23:44:56.556000+00:00</td>\n",
       "      <td>2020-12-05 10:14:06.556000+00:00</td>\n",
       "      <td>6.436921</td>\n",
       "    </tr>\n",
       "    <tr>\n",
       "      <th>4</th>\n",
       "      <td>4</td>\n",
       "      <td>795121</td>\n",
       "      <td>2020-11-18 23:59:56.236000+00:00</td>\n",
       "      <td>2020-11-27 02:38:16.236000+00:00</td>\n",
       "      <td>8.109954</td>\n",
       "    </tr>\n",
       "  </tbody>\n",
       "</table>\n",
       "</div>"
      ],
      "text/plain": [
       "   Unnamed: 0  user_id               main_page_viewed_at  \\\n",
       "0           0   959238  2020-11-20 23:55:02.759000+00:00   \n",
       "1           1   337366  2020-12-05 23:41:42.244000+00:00   \n",
       "2           2   259956  2020-11-20 23:33:53.269000+00:00   \n",
       "3           3   534280  2020-11-28 23:44:56.556000+00:00   \n",
       "4           4   795121  2020-11-18 23:59:56.236000+00:00   \n",
       "\n",
       "                 order_completed_at  time_to_order  \n",
       "0  2020-11-30 02:22:32.759000+00:00       9.102431  \n",
       "1  2020-12-12 22:25:52.244000+00:00       6.947338  \n",
       "2  2020-11-25 13:08:03.269000+00:00       4.565394  \n",
       "3  2020-12-05 10:14:06.556000+00:00       6.436921  \n",
       "4  2020-11-27 02:38:16.236000+00:00       8.109954  "
      ]
     },
     "execution_count": 3,
     "metadata": {},
     "output_type": "execute_result"
    }
   ],
   "source": [
    "historical_data.head()"
   ]
  },
  {
   "cell_type": "code",
   "execution_count": 4,
   "metadata": {
    "id": "Xef2_8M4bL0z",
    "outputId": "e7204528-c53d-4ddc-8149-27040c3f23ed"
   },
   "outputs": [
    {
     "data": {
      "text/plain": [
       "Unnamed: 0               int64\n",
       "user_id                  int64\n",
       "main_page_viewed_at     object\n",
       "order_completed_at      object\n",
       "time_to_order          float64\n",
       "dtype: object"
      ]
     },
     "execution_count": 4,
     "metadata": {},
     "output_type": "execute_result"
    }
   ],
   "source": [
    "# Проверь, выводятся ли даты в формате datetime. Если нет — исправь это. \n",
    "\n",
    "historical_data.dtypes"
   ]
  },
  {
   "cell_type": "code",
   "execution_count": 5,
   "metadata": {},
   "outputs": [],
   "source": [
    "historical_data['main_page_viewed_at']=pd.to_datetime(historical_data['main_page_viewed_at'])\n",
    "historical_data['order_completed_at']=pd.to_datetime(historical_data['order_completed_at'])"
   ]
  },
  {
   "cell_type": "markdown",
   "metadata": {
    "id": "olR8gTUvbL00"
   },
   "source": [
    "**2. Вычисли 95, 90 и 85 перцентили для наших данных с помощью колонки time_to_order.**\n",
    "   - Импортируй библиотеку `NumPy` и используй функцию перцентиля из нее.\n",
    "   - Какой перцентиль соответствует недельному окну конверсии? \n",
    "   - Запиши это значение в отдельную переменную `perc_X`, где Х — это выбранный тобой процент, а значение переменной – значение перцентиля, т. е. количество дней, которое избирается в качестве окна конверсии. \n",
    "   - Округли значение до 1 знака после запятой."
   ]
  },
  {
   "cell_type": "code",
   "execution_count": 6,
   "metadata": {
    "id": "5uiFILNtbL01"
   },
   "outputs": [],
   "source": [
    "import numpy as np"
   ]
  },
  {
   "cell_type": "code",
   "execution_count": 7,
   "metadata": {},
   "outputs": [
    {
     "data": {
      "text/plain": [
       "7.117476851851854"
      ]
     },
     "execution_count": 7,
     "metadata": {},
     "output_type": "execute_result"
    }
   ],
   "source": [
    "np.percentile(historical_data['time_to_order'], 95)"
   ]
  },
  {
   "cell_type": "code",
   "execution_count": 8,
   "metadata": {},
   "outputs": [
    {
     "data": {
      "text/plain": [
       "2.864949845679016"
      ]
     },
     "execution_count": 8,
     "metadata": {},
     "output_type": "execute_result"
    }
   ],
   "source": [
    "np.percentile(historical_data['time_to_order'], 90)"
   ]
  },
  {
   "cell_type": "code",
   "execution_count": 9,
   "metadata": {},
   "outputs": [
    {
     "data": {
      "text/plain": [
       "1.9903886959876524"
      ]
     },
     "execution_count": 9,
     "metadata": {},
     "output_type": "execute_result"
    }
   ],
   "source": [
    "np.percentile(historical_data['time_to_order'], 85)"
   ]
  },
  {
   "cell_type": "code",
   "execution_count": 10,
   "metadata": {},
   "outputs": [],
   "source": [
    "perc_85 = round(np.percentile(historical_data['time_to_order'], 85), 1)"
   ]
  },
  {
   "cell_type": "markdown",
   "metadata": {
    "id": "SRawyRWsbL02"
   },
   "source": [
    "**3. Построй гистограмму распределения времени между первым заходом на сайт и покупкой.** \n",
    "   - Передай функции графика в аргумент данные о времени конверсии\n",
    "   - Назови график и оси\n",
    "   - Вертикальной пунктирной линией отметь значение выбранного тобой перцентиля. \n",
    "   - Выведи значение перцентиля в легенду. \n",
    "*Можешь использовать `seaborn` или `matplotlib`, как тебе удобнее.*"
   ]
  },
  {
   "cell_type": "code",
   "execution_count": 11,
   "metadata": {
    "id": "z0Ie-hfKbL02"
   },
   "outputs": [],
   "source": [
    "import seaborn as sns \n",
    "import matplotlib.pyplot as plt"
   ]
  },
  {
   "cell_type": "code",
   "execution_count": 12,
   "metadata": {
    "id": "UMNd1kw3bL03"
   },
   "outputs": [
    {
     "name": "stderr",
     "output_type": "stream",
     "text": [
      "C:\\Users\\Xenia\\anaconda3\\lib\\site-packages\\seaborn\\distributions.py:2619: FutureWarning: `distplot` is a deprecated function and will be removed in a future version. Please adapt your code to use either `displot` (a figure-level function with similar flexibility) or `histplot` (an axes-level function for histograms).\n",
      "  warnings.warn(msg, FutureWarning)\n"
     ]
    },
    {
     "data": {
      "image/png": "[encoded data removed]",
      "text/plain": [
       "<Figure size 1152x648 with 1 Axes>"
      ]
     },
     "metadata": {
      "needs_background": "light"
     },
     "output_type": "display_data"
    }
   ],
   "source": [
    "# напиши здесь код\n",
    "plt.figure(figsize=(16,9))\n",
    "sns.distplot(historical_data['time_to_order'])\n",
    "plt.vlines(perc_85, ymin = 0, ymax = 0.7, linestyles = 'dashed', label = f'85-ый перцентиль – {perc_85} дней')\n",
    "plt.title('Распределение времени между первым заходом на сайт и покупкой')\n",
    "plt.xlabel('Количество дней')\n",
    "plt.ylabel('Количество пользователей')\n",
    "plt.legend()\n",
    "plt.show()"
   ]
  },
  {
   "cell_type": "markdown",
   "metadata": {
    "id": "3nsIxdYObL03"
   },
   "source": [
    "## Задание 2. Исследуй распределение пользователей по группам по основным сегментам \n",
    "\n",
    "**1. Прочитай файл bakery_ab_test.csv.**\n",
    "   - Проверь, импортированы ли нужные тебе библиотеки.\n",
    "   - Запиши данные в переменную `data`. \n",
    "   - Назначь индекс аналогично первому заданию."
   ]
  },
  {
   "cell_type": "code",
   "execution_count": 13,
   "metadata": {
    "id": "-l6Y90j6bL03"
   },
   "outputs": [
    {
     "data": {
      "text/html": [
       "<div>\n",
       "<style scoped>\n",
       "    .dataframe tbody tr th:only-of-type {\n",
       "        vertical-align: middle;\n",
       "    }\n",
       "\n",
       "    .dataframe tbody tr th {\n",
       "        vertical-align: top;\n",
       "    }\n",
       "\n",
       "    .dataframe thead th {\n",
       "        text-align: right;\n",
       "    }\n",
       "</style>\n",
       "<table border=\"1\" class=\"dataframe\">\n",
       "  <thead>\n",
       "    <tr style=\"text-align: right;\">\n",
       "      <th></th>\n",
       "      <th>Unnamed: 0</th>\n",
       "      <th>user_id</th>\n",
       "      <th>test_group</th>\n",
       "      <th>purchase_amount</th>\n",
       "      <th>geo_group</th>\n",
       "      <th>acquisition_channel</th>\n",
       "      <th>within_window</th>\n",
       "      <th>platform</th>\n",
       "    </tr>\n",
       "  </thead>\n",
       "  <tbody>\n",
       "    <tr>\n",
       "      <th>0</th>\n",
       "      <td>1</td>\n",
       "      <td>3738</td>\n",
       "      <td>test</td>\n",
       "      <td>306.639511</td>\n",
       "      <td>regions</td>\n",
       "      <td>target_direct</td>\n",
       "      <td>1</td>\n",
       "      <td>pc</td>\n",
       "    </tr>\n",
       "    <tr>\n",
       "      <th>1</th>\n",
       "      <td>2</td>\n",
       "      <td>3755</td>\n",
       "      <td>control</td>\n",
       "      <td>NaN</td>\n",
       "      <td>regions</td>\n",
       "      <td>target_direct</td>\n",
       "      <td>0</td>\n",
       "      <td>pc</td>\n",
       "    </tr>\n",
       "    <tr>\n",
       "      <th>2</th>\n",
       "      <td>3</td>\n",
       "      <td>3772</td>\n",
       "      <td>test</td>\n",
       "      <td>NaN</td>\n",
       "      <td>regions</td>\n",
       "      <td>context_brand</td>\n",
       "      <td>0</td>\n",
       "      <td>mobile</td>\n",
       "    </tr>\n",
       "    <tr>\n",
       "      <th>3</th>\n",
       "      <td>4</td>\n",
       "      <td>3789</td>\n",
       "      <td>control</td>\n",
       "      <td>NaN</td>\n",
       "      <td>spb</td>\n",
       "      <td>target_direct</td>\n",
       "      <td>0</td>\n",
       "      <td>pc</td>\n",
       "    </tr>\n",
       "    <tr>\n",
       "      <th>4</th>\n",
       "      <td>5</td>\n",
       "      <td>3806</td>\n",
       "      <td>test</td>\n",
       "      <td>NaN</td>\n",
       "      <td>regions</td>\n",
       "      <td>social_media</td>\n",
       "      <td>0</td>\n",
       "      <td>pc</td>\n",
       "    </tr>\n",
       "    <tr>\n",
       "      <th>...</th>\n",
       "      <td>...</td>\n",
       "      <td>...</td>\n",
       "      <td>...</td>\n",
       "      <td>...</td>\n",
       "      <td>...</td>\n",
       "      <td>...</td>\n",
       "      <td>...</td>\n",
       "      <td>...</td>\n",
       "    </tr>\n",
       "    <tr>\n",
       "      <th>150478</th>\n",
       "      <td>152995</td>\n",
       "      <td>2604636</td>\n",
       "      <td>test</td>\n",
       "      <td>NaN</td>\n",
       "      <td>regions</td>\n",
       "      <td>target_direct</td>\n",
       "      <td>0</td>\n",
       "      <td>pc</td>\n",
       "    </tr>\n",
       "    <tr>\n",
       "      <th>150479</th>\n",
       "      <td>152996</td>\n",
       "      <td>2604653</td>\n",
       "      <td>control</td>\n",
       "      <td>5236.818309</td>\n",
       "      <td>regions</td>\n",
       "      <td>organic</td>\n",
       "      <td>1</td>\n",
       "      <td>mobile</td>\n",
       "    </tr>\n",
       "    <tr>\n",
       "      <th>150480</th>\n",
       "      <td>152997</td>\n",
       "      <td>2604670</td>\n",
       "      <td>control</td>\n",
       "      <td>NaN</td>\n",
       "      <td>regions</td>\n",
       "      <td>target_direct</td>\n",
       "      <td>0</td>\n",
       "      <td>pc</td>\n",
       "    </tr>\n",
       "    <tr>\n",
       "      <th>150481</th>\n",
       "      <td>152998</td>\n",
       "      <td>2604687</td>\n",
       "      <td>control</td>\n",
       "      <td>101.783032</td>\n",
       "      <td>regions</td>\n",
       "      <td>target_direct</td>\n",
       "      <td>1</td>\n",
       "      <td>pc</td>\n",
       "    </tr>\n",
       "    <tr>\n",
       "      <th>150482</th>\n",
       "      <td>152999</td>\n",
       "      <td>2604704</td>\n",
       "      <td>test</td>\n",
       "      <td>NaN</td>\n",
       "      <td>msk</td>\n",
       "      <td>social_media</td>\n",
       "      <td>0</td>\n",
       "      <td>pc</td>\n",
       "    </tr>\n",
       "  </tbody>\n",
       "</table>\n",
       "<p>150483 rows × 8 columns</p>\n",
       "</div>"
      ],
      "text/plain": [
       "        Unnamed: 0  user_id test_group  purchase_amount geo_group  \\\n",
       "0                1     3738       test       306.639511   regions   \n",
       "1                2     3755    control              NaN   regions   \n",
       "2                3     3772       test              NaN   regions   \n",
       "3                4     3789    control              NaN       spb   \n",
       "4                5     3806       test              NaN   regions   \n",
       "...            ...      ...        ...              ...       ...   \n",
       "150478      152995  2604636       test              NaN   regions   \n",
       "150479      152996  2604653    control      5236.818309   regions   \n",
       "150480      152997  2604670    control              NaN   regions   \n",
       "150481      152998  2604687    control       101.783032   regions   \n",
       "150482      152999  2604704       test              NaN       msk   \n",
       "\n",
       "       acquisition_channel  within_window platform  \n",
       "0            target_direct              1       pc  \n",
       "1            target_direct              0       pc  \n",
       "2            context_brand              0   mobile  \n",
       "3            target_direct              0       pc  \n",
       "4             social_media              0       pc  \n",
       "...                    ...            ...      ...  \n",
       "150478       target_direct              0       pc  \n",
       "150479             organic              1   mobile  \n",
       "150480       target_direct              0       pc  \n",
       "150481       target_direct              1       pc  \n",
       "150482        social_media              0       pc  \n",
       "\n",
       "[150483 rows x 8 columns]"
      ]
     },
     "execution_count": 13,
     "metadata": {},
     "output_type": "execute_result"
    }
   ],
   "source": [
    "# напиши здесь код\n",
    "data = pd.read_csv('bakery_ab_test.csv') \n",
    "data"
   ]
  },
  {
   "cell_type": "code",
   "execution_count": 14,
   "metadata": {},
   "outputs": [
    {
     "data": {
      "text/html": [
       "<div>\n",
       "<style scoped>\n",
       "    .dataframe tbody tr th:only-of-type {\n",
       "        vertical-align: middle;\n",
       "    }\n",
       "\n",
       "    .dataframe tbody tr th {\n",
       "        vertical-align: top;\n",
       "    }\n",
       "\n",
       "    .dataframe thead th {\n",
       "        text-align: right;\n",
       "    }\n",
       "</style>\n",
       "<table border=\"1\" class=\"dataframe\">\n",
       "  <thead>\n",
       "    <tr style=\"text-align: right;\">\n",
       "      <th></th>\n",
       "      <th>test_group</th>\n",
       "      <th>user_id</th>\n",
       "      <th>within_window</th>\n",
       "      <th>conversion</th>\n",
       "    </tr>\n",
       "  </thead>\n",
       "  <tbody>\n",
       "    <tr>\n",
       "      <th>0</th>\n",
       "      <td>control</td>\n",
       "      <td>75210</td>\n",
       "      <td>22998</td>\n",
       "      <td>30.58</td>\n",
       "    </tr>\n",
       "    <tr>\n",
       "      <th>1</th>\n",
       "      <td>test</td>\n",
       "      <td>75273</td>\n",
       "      <td>24427</td>\n",
       "      <td>32.45</td>\n",
       "    </tr>\n",
       "  </tbody>\n",
       "</table>\n",
       "</div>"
      ],
      "text/plain": [
       "  test_group  user_id  within_window  conversion\n",
       "0    control    75210          22998       30.58\n",
       "1       test    75273          24427       32.45"
      ]
     },
     "execution_count": 14,
     "metadata": {},
     "output_type": "execute_result"
    }
   ],
   "source": [
    "metrics = data.groupby('test_group', as_index= False).agg({'user_id': 'count', 'within_window': 'sum'})\n",
    "metrics['conversion'] = round(metrics['within_window']/metrics['user_id']*100, 2)\n",
    "metrics"
   ]
  },
  {
   "cell_type": "markdown",
   "metadata": {
    "id": "BySl6id7bL04"
   },
   "source": [
    "**2. Напиши функцию plot_segment_distribution, чтобы проверить распределение пользователей по сегментам внутри каждой группы.**\n",
    "   - Аргументами функции должны быть данные теста, колонки с сегментами (маркетинг, гео и платформа), тест-фактор.\n",
    "   - Для каждого сегмента в функции агрегируй данные, посчитав по для каждой группы и сегмента количество пользователей.\n",
    "   - Сбрость индекс.\n",
    "   - Добавь в функцию построение столбиковой диаграммы (bar chart)."
   ]
  },
  {
   "cell_type": "code",
   "execution_count": 15,
   "metadata": {
    "id": "XJowVpQjbL04"
   },
   "outputs": [],
   "source": [
    "# напиши здесь код\n",
    "def plot_segments_distribution(df, segment_columns, test_factor):\n",
    "    for segment in segment_columns:\n",
    "        aggregated_data = df.groupby(by = [test_factor, segment])['user_id'].count().reset_index()\n",
    "        sns.catplot(x = segment, \n",
    "                    y = 'user_id', \n",
    "                    hue = test_factor, # сообщаем, что хотим, чтобы разные группы имели разный цвет\n",
    "                    data = aggregated_data, \n",
    "                    kind = \"bar\", \n",
    "                    height = 4, # задаем размер графика \n",
    "                    aspect = 1.5) # задаем ширину столбца\n",
    "    "
   ]
  },
  {
   "cell_type": "markdown",
   "metadata": {
    "id": "_miaIvPmbL05"
   },
   "source": [
    "**3. Вызови функцию и посмотри на графики. Какой вывод о качестве сплитования ты можешь сделать?**\n",
    "    — Передай списком столбцы, в которых обозначены сегменты пользователей, и отдельно столбец с тест-фактором."
   ]
  },
  {
   "cell_type": "code",
   "execution_count": 16,
   "metadata": {
    "id": "0e90OJ0YbL05"
   },
   "outputs": [
    {
     "data": {
      "image/png": "[encoded data removed]",
      "text/plain": [
       "<Figure size 502.5x288 with 1 Axes>"
      ]
     },
     "metadata": {
      "needs_background": "light"
     },
     "output_type": "display_data"
    },
    {
     "data": {
      "image/png": "[encoded data removed]",
      "text/plain": [
       "<Figure size 502.5x288 with 1 Axes>"
      ]
     },
     "metadata": {
      "needs_background": "light"
     },
     "output_type": "display_data"
    },
    {
     "data": {
      "image/png": "[encoded data removed]",
      "text/plain": [
       "<Figure size 502.5x288 with 1 Axes>"
      ]
     },
     "metadata": {
      "needs_background": "light"
     },
     "output_type": "display_data"
    }
   ],
   "source": [
    "# напиши здесь код\n",
    "plot_segments_distribution(data, #датафрейм\n",
    "                           [\"geo_group\", \"acquisition_channel\",\"platform\"], #сегменты\n",
    "                           \"test_group\") #тест-фактор"
   ]
  },
  {
   "cell_type": "markdown",
   "metadata": {
    "id": "8jAA6GdHbL05"
   },
   "source": [
    "\n",
    "## Задание 3. Используй критерий Хи-квадрат для конверсии\n"
   ]
  },
  {
   "cell_type": "markdown",
   "metadata": {
    "id": "ixJWxL_JbL06"
   },
   "source": [
    "В прошлом задании ты, скорее всего, столкнулся с неравномерным распределением пользователей. Раньше мы просто перезапускали тест, чтобы собрать данные, но сейчас тест уже завершен, так что нам нужно анализировать те данные, которые есть. Мы не можем исправить данные, но можем проанализировать общие результаты и сравнить их с результатами для пользователей, зашедших с разных платформ, чтобы уменьшить риск принятия ошибочного решения. Поэтому дальше мы будем анализировать параллельно 3 теста:\n",
    "\n",
    "1. Все пользователи, попавшие в тест\n",
    "2. Пользователи, заходившие с ПК `platform = 'pc'`\n",
    "3. Пользователи, заходившие с мобильного `platform = 'mobile'`"
   ]
  },
  {
   "cell_type": "markdown",
   "metadata": {
    "id": "x2DlXIbDbL07"
   },
   "source": [
    "**Создай для каждой из 3 групп теста отдельную таблицу с метриками**\n",
    "   - общее количество пользователей \n",
    "   - количество покупок в окне конверсии\n",
    "   - средняя сумма покупки \n",
    "   - конверсия (количество покупок в окне конверсии / общее количество пользователей или среднее по полю `within_window`)\n",
    "    \n",
    "*Для фильтрации нужных пользователей можешь использовать* `loc[ ]`\n"
   ]
  },
  {
   "cell_type": "code",
   "execution_count": 17,
   "metadata": {
    "id": "yicAUBtnbL07"
   },
   "outputs": [
    {
     "data": {
      "text/html": [
       "<div>\n",
       "<style scoped>\n",
       "    .dataframe tbody tr th:only-of-type {\n",
       "        vertical-align: middle;\n",
       "    }\n",
       "\n",
       "    .dataframe tbody tr th {\n",
       "        vertical-align: top;\n",
       "    }\n",
       "\n",
       "    .dataframe thead th {\n",
       "        text-align: right;\n",
       "    }\n",
       "</style>\n",
       "<table border=\"1\" class=\"dataframe\">\n",
       "  <thead>\n",
       "    <tr style=\"text-align: right;\">\n",
       "      <th></th>\n",
       "      <th>test_group</th>\n",
       "      <th>user_id</th>\n",
       "      <th>within_window</th>\n",
       "      <th>purchase_amount</th>\n",
       "      <th>conversion</th>\n",
       "    </tr>\n",
       "  </thead>\n",
       "  <tbody>\n",
       "    <tr>\n",
       "      <th>0</th>\n",
       "      <td>control</td>\n",
       "      <td>75210</td>\n",
       "      <td>22998</td>\n",
       "      <td>5170.864335</td>\n",
       "      <td>30.578381</td>\n",
       "    </tr>\n",
       "    <tr>\n",
       "      <th>1</th>\n",
       "      <td>test</td>\n",
       "      <td>75273</td>\n",
       "      <td>24427</td>\n",
       "      <td>5394.771589</td>\n",
       "      <td>32.451211</td>\n",
       "    </tr>\n",
       "  </tbody>\n",
       "</table>\n",
       "</div>"
      ],
      "text/plain": [
       "  test_group  user_id  within_window  purchase_amount  conversion\n",
       "0    control    75210          22998      5170.864335   30.578381\n",
       "1       test    75273          24427      5394.771589   32.451211"
      ]
     },
     "execution_count": 17,
     "metadata": {},
     "output_type": "execute_result"
    }
   ],
   "source": [
    "metrics = data.groupby('test_group',as_index= False).agg({'user_id': 'count', 'within_window': 'sum','purchase_amount':'mean'})\n",
    "metrics['conversion'] = metrics.within_window/metrics.user_id*100\n",
    "metrics"
   ]
  },
  {
   "cell_type": "code",
   "execution_count": 18,
   "metadata": {
    "id": "dAdU8YspbL07"
   },
   "outputs": [
    {
     "data": {
      "text/html": [
       "<div>\n",
       "<style scoped>\n",
       "    .dataframe tbody tr th:only-of-type {\n",
       "        vertical-align: middle;\n",
       "    }\n",
       "\n",
       "    .dataframe tbody tr th {\n",
       "        vertical-align: top;\n",
       "    }\n",
       "\n",
       "    .dataframe thead th {\n",
       "        text-align: right;\n",
       "    }\n",
       "</style>\n",
       "<table border=\"1\" class=\"dataframe\">\n",
       "  <thead>\n",
       "    <tr style=\"text-align: right;\">\n",
       "      <th></th>\n",
       "      <th>test_group</th>\n",
       "      <th>user_id</th>\n",
       "      <th>within_window</th>\n",
       "      <th>purchase_amount</th>\n",
       "      <th>conversion</th>\n",
       "    </tr>\n",
       "  </thead>\n",
       "  <tbody>\n",
       "    <tr>\n",
       "      <th>0</th>\n",
       "      <td>control</td>\n",
       "      <td>45112</td>\n",
       "      <td>13732</td>\n",
       "      <td>5200.121803</td>\n",
       "      <td>30.58</td>\n",
       "    </tr>\n",
       "    <tr>\n",
       "      <th>1</th>\n",
       "      <td>test</td>\n",
       "      <td>60317</td>\n",
       "      <td>19659</td>\n",
       "      <td>5401.003720</td>\n",
       "      <td>32.45</td>\n",
       "    </tr>\n",
       "  </tbody>\n",
       "</table>\n",
       "</div>"
      ],
      "text/plain": [
       "  test_group  user_id  within_window  purchase_amount  conversion\n",
       "0    control    45112          13732      5200.121803       30.58\n",
       "1       test    60317          19659      5401.003720       32.45"
      ]
     },
     "execution_count": 18,
     "metadata": {},
     "output_type": "execute_result"
    }
   ],
   "source": [
    "metrics_pc = data.loc[data.platform =='pc'].groupby('test_group',as_index= False).agg({'user_id': 'count', 'within_window': 'sum','purchase_amount':'mean'})\n",
    "metrics_pc['conversion'] = round(metrics['within_window']/metrics['user_id']*100, 2)\n",
    "metrics_pc"
   ]
  },
  {
   "cell_type": "code",
   "execution_count": 19,
   "metadata": {
    "id": "j1bGG9yrbL08"
   },
   "outputs": [
    {
     "data": {
      "text/html": [
       "<div>\n",
       "<style scoped>\n",
       "    .dataframe tbody tr th:only-of-type {\n",
       "        vertical-align: middle;\n",
       "    }\n",
       "\n",
       "    .dataframe tbody tr th {\n",
       "        vertical-align: top;\n",
       "    }\n",
       "\n",
       "    .dataframe thead th {\n",
       "        text-align: right;\n",
       "    }\n",
       "</style>\n",
       "<table border=\"1\" class=\"dataframe\">\n",
       "  <thead>\n",
       "    <tr style=\"text-align: right;\">\n",
       "      <th></th>\n",
       "      <th>test_group</th>\n",
       "      <th>user_id</th>\n",
       "      <th>within_window</th>\n",
       "      <th>purchase_amount</th>\n",
       "      <th>conversion</th>\n",
       "    </tr>\n",
       "  </thead>\n",
       "  <tbody>\n",
       "    <tr>\n",
       "      <th>0</th>\n",
       "      <td>control</td>\n",
       "      <td>30098</td>\n",
       "      <td>9266</td>\n",
       "      <td>5127.505438</td>\n",
       "      <td>30.58</td>\n",
       "    </tr>\n",
       "    <tr>\n",
       "      <th>1</th>\n",
       "      <td>test</td>\n",
       "      <td>14956</td>\n",
       "      <td>4768</td>\n",
       "      <td>5369.075812</td>\n",
       "      <td>32.45</td>\n",
       "    </tr>\n",
       "  </tbody>\n",
       "</table>\n",
       "</div>"
      ],
      "text/plain": [
       "  test_group  user_id  within_window  purchase_amount  conversion\n",
       "0    control    30098           9266      5127.505438       30.58\n",
       "1       test    14956           4768      5369.075812       32.45"
      ]
     },
     "execution_count": 19,
     "metadata": {},
     "output_type": "execute_result"
    }
   ],
   "source": [
    "metrics_mobile = data.loc[data.platform =='mobile'].groupby('test_group',as_index= False).agg({'user_id': 'count', 'within_window': 'sum','purchase_amount':'mean'})\n",
    "metrics_mobile['conversion'] = round(metrics['within_window']/metrics['user_id']*100, 2)\n",
    "metrics_mobile"
   ]
  },
  {
   "cell_type": "markdown",
   "metadata": {
    "id": "CqMnSwzvbL08"
   },
   "source": [
    "**1. Вычисли** `p-value` **для каждой группы с помощью теста хи-квадрат**\n",
    "\n",
    "   - Импортируй библиотеку `statsmodels` и используй функцию `proportions_chisquare` из нее\n",
    "   - Результат работы функции `proportions_chisquare` присвой трем переменным для каждой группы\n"
   ]
  },
  {
   "cell_type": "code",
   "execution_count": 20,
   "metadata": {
    "id": "Q5J-6Z54bL08"
   },
   "outputs": [],
   "source": [
    "import statsmodels.stats.proportion as proportion"
   ]
  },
  {
   "cell_type": "code",
   "execution_count": 21,
   "metadata": {
    "id": "_w0kri_PbL0-"
   },
   "outputs": [
    {
     "data": {
      "text/plain": [
       "(61.137841436908104,\n",
       " 5.321539863368111e-15,\n",
       " (array([[22998., 52212.],\n",
       "         [24427., 50846.]]),\n",
       "  array([[23702.57271585, 51507.42728415],\n",
       "         [23722.42728415, 51550.57271585]])))"
      ]
     },
     "execution_count": 21,
     "metadata": {},
     "output_type": "execute_result"
    }
   ],
   "source": [
    "chi2stat, pval, table = proportion.proportions_chisquare(metrics['within_window'], metrics['user_id'])\n",
    "chi2stat, pval, table"
   ]
  },
  {
   "cell_type": "code",
   "execution_count": 22,
   "metadata": {
    "id": "WZHc1CEHbL0-"
   },
   "outputs": [
    {
     "data": {
      "text/plain": [
       "(55.28301795095328,\n",
       " 1.0436637877855105e-13,\n",
       " (array([[13732., 31380.],\n",
       "         [19659., 40658.]]),\n",
       "  array([[14287.67029944, 30824.32970056],\n",
       "         [19103.32970056, 41213.67029944]])))"
      ]
     },
     "execution_count": 22,
     "metadata": {},
     "output_type": "execute_result"
    }
   ],
   "source": [
    "chi2stat_pc, pval_pc, table_pc = proportion.proportions_chisquare(metrics_pc['within_window'], metrics_pc['user_id'])\n",
    "chi2stat_pc, pval_pc, table_pc"
   ]
  },
  {
   "cell_type": "code",
   "execution_count": 23,
   "metadata": {
    "id": "hu9CH3VFbL0_"
   },
   "outputs": [
    {
     "data": {
      "text/plain": [
       "(5.576527147023639,\n",
       " 0.018202784051985058,\n",
       " (array([[ 9266., 20832.],\n",
       "         [ 4768., 10188.]]),\n",
       "  array([[ 9375.31255826, 20722.68744174],\n",
       "         [ 4658.68744174, 10297.31255826]])))"
      ]
     },
     "execution_count": 23,
     "metadata": {},
     "output_type": "execute_result"
    }
   ],
   "source": [
    "chi2stat_mobile, pval_mobile, table_mobile = proportion.proportions_chisquare(metrics_mobile['within_window'], metrics_mobile['user_id'])\n",
    "chi2stat_mobile, pval_mobile, table_mobile"
   ]
  },
  {
   "cell_type": "markdown",
   "metadata": {
    "id": "cbSeqgLkbL0_"
   },
   "source": [
    "**2. Введи в анализ уровень значимости в 5% с помощью переменной** `alpha`.\n"
   ]
  },
  {
   "cell_type": "code",
   "execution_count": 24,
   "metadata": {
    "id": "YRT0d5F4bL0_"
   },
   "outputs": [
    {
     "name": "stdout",
     "output_type": "stream",
     "text": [
      "True\n"
     ]
    }
   ],
   "source": [
    "# напиши здесь код\n",
    "alpha = 0.05\n",
    "print(pval < alpha)"
   ]
  },
  {
   "cell_type": "code",
   "execution_count": 25,
   "metadata": {},
   "outputs": [],
   "source": [
    "#Результат эксперимента можно считать статзначимым.Нулевая гипотеза подтвердилась"
   ]
  },
  {
   "cell_type": "markdown",
   "metadata": {
    "id": "5HjWvrfObL1A"
   },
   "source": [
    "**3. Оставь комментарий, какой вывод о наличии статистически значимой в каждой группе разницы можно сделать? Что делаем с нулевой гипотезой?**"
   ]
  },
  {
   "cell_type": "markdown",
   "metadata": {
    "id": "aTrhi9zfbL1B"
   },
   "source": [
    "## Задание 4. Вычисли мощность теста\n",
    "\n",
    "1. Импортируй объект `stats.power` из библиотеки `statsmodels`\n",
    "2. Присвой функцию `GofChisquarePower()` из этой библиотеки в переменную `chipower` \n",
    "3. Реализуй функцию для подсчета `effect_size`"
   ]
  },
  {
   "cell_type": "code",
   "execution_count": 26,
   "metadata": {
    "id": "-yk7MRcIbL1B"
   },
   "outputs": [],
   "source": [
    "import statsmodels.stats.power as smp"
   ]
  },
  {
   "cell_type": "code",
   "execution_count": 27,
   "metadata": {
    "id": "-riu6DIdbL1C"
   },
   "outputs": [],
   "source": [
    "# напиши здесь код\n",
    "conversion_control = metrics['conversion'].values[0]/100 \n",
    "\n",
    "#конверсия в тестовой группе\n",
    "conversion_test = metrics['conversion'].values[1]/100\n",
    "\n",
    "# в столбце 2 значения: кол-во наблюдений для каждой группы — возьмем то, что меньше\n",
    "nobs = min(metrics['user_id'])"
   ]
  },
  {
   "cell_type": "markdown",
   "metadata": {
    "id": "fPvQU-50bL1D"
   },
   "source": [
    "`effect_size` — это та самая наблюдаемая разница между двумя вариантами. Вычисляется следующим образом: \n",
    "\n",
    "$$ES = \\sqrt{(p_0 - p_1)^2/p_o}$$\n",
    "\n",
    ", где под $p_0$ можно понимать конверсию в контрольной группе, а $p_1$ — тестовой"
   ]
  },
  {
   "cell_type": "code",
   "execution_count": 28,
   "metadata": {
    "id": "oKd-pOhNbL1H"
   },
   "outputs": [],
   "source": [
    "def chi2_effect_size(p0, p1):\n",
    "    return np.sqrt(((p0 - p1)**2 / p0))"
   ]
  },
  {
   "cell_type": "markdown",
   "metadata": {
    "id": "DNxX0FxlbL1I"
   },
   "source": [
    "4. Запиши значения конверсии в тестовой `conversion_test` и контрольной `conversion_control` группы в разные переменные\n",
    "    - переведи серию в массив с помощью `.values[ ]`\n",
    "    - раздели значения на 100, чтобы получить значения, а не %\n",
    "    \n",
    "    \n",
    "5. Создай переменную nobs для количества наблюдений и запиши в нее значение меньшей группы"
   ]
  },
  {
   "cell_type": "code",
   "execution_count": 29,
   "metadata": {
    "id": "3Pk5F428bL1J"
   },
   "outputs": [],
   "source": [
    "conversion_control=metrics['conversion'].values[0]/100\n",
    "conversion_test=metrics['conversion'].values[1]/100\n",
    "nobs=min(metrics['user_id'])"
   ]
  },
  {
   "cell_type": "code",
   "execution_count": 30,
   "metadata": {
    "id": "GvXJIApvbL1K"
   },
   "outputs": [],
   "source": [
    "conversion_control_mobile = metrics_mobile['conversion'].values[0]/100\n",
    "conversion_test_mobile = metrics_mobile['conversion'].values[1]/100\n",
    "nobs_mobile = min(metrics_mobile['user_id'])"
   ]
  },
  {
   "cell_type": "code",
   "execution_count": 31,
   "metadata": {
    "id": "uCdz925obL1K"
   },
   "outputs": [],
   "source": [
    "conversion_control_pc = metrics_pc['conversion'].values[0]/100\n",
    "conversion_test_pc = metrics_pc['conversion'].values[1]/100 \n",
    "nobs_pc =  min(metrics_pc['user_id'])"
   ]
  },
  {
   "cell_type": "markdown",
   "metadata": {
    "id": "_IYBUKzTbL1K"
   },
   "source": [
    "**6. Вызови функцию .solve_power и передай ей в аргументы** \n",
    "    - effect_size\n",
    "    - количество наблюдений меньшей группы\n",
    "    - значение p-value\n",
    "    - мощности присвой значение None\n",
    "    \n",
    "**7. Сделай анализ мощности для каждого сегмента, для которого делали тест хи-квадрат.**\n",
    "\n",
    "Оставь комментарий, как ты оцениваешь мощность этого теста? Можно ли на основе таких показателей делать выводы?\n"
   ]
  },
  {
   "cell_type": "code",
   "execution_count": 32,
   "metadata": {},
   "outputs": [],
   "source": [
    "chipower = smp.GofChisquarePower()"
   ]
  },
  {
   "cell_type": "code",
   "execution_count": 33,
   "metadata": {
    "id": "iedF3DKybL1L"
   },
   "outputs": [
    {
     "data": {
      "text/plain": [
       "0.9290939440556412"
      ]
     },
     "execution_count": 33,
     "metadata": {},
     "output_type": "execute_result"
    }
   ],
   "source": [
    "power = chipower.solve_power(effect_size = chi2_effect_size(conversion_control, conversion_test), \n",
    "                                               nobs = nobs, \n",
    "                                               alpha = pval, \n",
    "                                               power = None) \n",
    "power"
   ]
  },
  {
   "cell_type": "code",
   "execution_count": 34,
   "metadata": {
    "id": "N5BqF4yYbL1L"
   },
   "outputs": [
    {
     "data": {
      "text/plain": [
       "0.9271367916086642"
      ]
     },
     "execution_count": 34,
     "metadata": {},
     "output_type": "execute_result"
    }
   ],
   "source": [
    "mobile_power = chipower.solve_power(effect_size = chi2_effect_size(conversion_control_mobile, conversion_test_mobile), \n",
    "                                               nobs = nobs, \n",
    "                                               alpha = pval, \n",
    "                                               power = None) \n",
    "mobile_power"
   ]
  },
  {
   "cell_type": "code",
   "execution_count": 35,
   "metadata": {
    "id": "EkzdB9swbL1L"
   },
   "outputs": [
    {
     "data": {
      "text/plain": [
       "0.9271367916086642"
      ]
     },
     "execution_count": 35,
     "metadata": {},
     "output_type": "execute_result"
    }
   ],
   "source": [
    "pc_power = mobile_power = chipower.solve_power(effect_size = chi2_effect_size(conversion_control_pc, conversion_test_pc), \n",
    "                                               nobs = nobs, \n",
    "                                               alpha = pval, \n",
    "                                               power = None) \n",
    "pc_power"
   ]
  },
  {
   "cell_type": "markdown",
   "metadata": {
    "id": "lYlqrjkLbL1M"
   },
   "source": [
    "## Задание 5. Воспользуйся бутстрапом для оценки влияния теста на средний чек"
   ]
  },
  {
   "cell_type": "markdown",
   "metadata": {
    "id": "cAEEwfC1bL1N"
   },
   "source": [
    "**1. Сделай бутстрап среднего чека для тестовой и контрольной выборок, визуализируй результат. Какие выводы можно сделать?**\n",
    "   - загрузи нужные модули из библиотеки `bootstrapped`\n",
    "   - для сегментов, которые мы анализируем отдельно, создай переменную со значением среднего чека\n",
    "   - чтобы убрать строки без покупок, используй `dropna()` и `.values`, чтобы перевести данные в формат массива"
   ]
  },
  {
   "cell_type": "code",
   "execution_count": 36,
   "metadata": {},
   "outputs": [
    {
     "name": "stdout",
     "output_type": "stream",
     "text": [
      "Requirement already satisfied: bootstrapped in c:\\users\\xenia\\anaconda3\\lib\\site-packages (0.0.2)\n",
      "Requirement already satisfied: pandas>=0.18.1 in c:\\users\\xenia\\anaconda3\\lib\\site-packages (from bootstrapped) (1.4.2)\n",
      "Requirement already satisfied: matplotlib>=1.5.3 in c:\\users\\xenia\\anaconda3\\lib\\site-packages (from bootstrapped) (3.5.1)\n",
      "Requirement already satisfied: numpy>=1.11.1 in c:\\users\\xenia\\anaconda3\\lib\\site-packages (from bootstrapped) (1.21.5)\n",
      "Requirement already satisfied: python-dateutil>=2.7 in c:\\users\\xenia\\anaconda3\\lib\\site-packages (from matplotlib>=1.5.3->bootstrapped) (2.8.2)\n",
      "Requirement already satisfied: cycler>=0.10 in c:\\users\\xenia\\anaconda3\\lib\\site-packages (from matplotlib>=1.5.3->bootstrapped) (0.11.0)\n",
      "Requirement already satisfied: fonttools>=4.22.0 in c:\\users\\xenia\\anaconda3\\lib\\site-packages (from matplotlib>=1.5.3->bootstrapped) (4.25.0)\n",
      "Requirement already satisfied: pillow>=6.2.0 in c:\\users\\xenia\\anaconda3\\lib\\site-packages (from matplotlib>=1.5.3->bootstrapped) (9.0.1)\n",
      "Requirement already satisfied: kiwisolver>=1.0.1 in c:\\users\\xenia\\anaconda3\\lib\\site-packages (from matplotlib>=1.5.3->bootstrapped) (1.3.2)\n",
      "Requirement already satisfied: packaging>=20.0 in c:\\users\\xenia\\anaconda3\\lib\\site-packages (from matplotlib>=1.5.3->bootstrapped) (21.3)\n",
      "Requirement already satisfied: pyparsing>=2.2.1 in c:\\users\\xenia\\anaconda3\\lib\\site-packages (from matplotlib>=1.5.3->bootstrapped) (3.0.4)\n",
      "Requirement already satisfied: pytz>=2020.1 in c:\\users\\xenia\\anaconda3\\lib\\site-packages (from pandas>=0.18.1->bootstrapped) (2021.3)\n",
      "Requirement already satisfied: six>=1.5 in c:\\users\\xenia\\anaconda3\\lib\\site-packages (from python-dateutil>=2.7->matplotlib>=1.5.3->bootstrapped) (1.16.0)\n"
     ]
    }
   ],
   "source": [
    "!pip install bootstrapped"
   ]
  },
  {
   "cell_type": "code",
   "execution_count": 37,
   "metadata": {
    "id": "HiFX2R0DbL1O"
   },
   "outputs": [],
   "source": [
    "# импортируем необходимые модули\n",
    "import bootstrapped.bootstrap as bs\n",
    "import bootstrapped.stats_functions as bs_stats\n",
    "import bootstrapped.compare_functions as bs_compare\n",
    "import numpy as np"
   ]
  },
  {
   "cell_type": "code",
   "execution_count": 38,
   "metadata": {
    "id": "Q4QY9KlEbL1O"
   },
   "outputs": [],
   "source": [
    "test = data[data['test_group'] == 'test']['purchase_amount'].dropna().values\n",
    "control = data[data['test_group'] == 'control']['purchase_amount'].dropna().values\n",
    "\n",
    "test_pc = data[(data['test_group'] == 'test')&(data['platform'] == 'pc')]['purchase_amount'].dropna().values\n",
    "control_pc = data[(data['test_group'] == 'control')&(data['platform'] == 'pc')]['purchase_amount'].dropna().values\n",
    "\n",
    "test_mobile = data[(data['test_group'] == 'test')&(data['platform'] == 'mobile')]['purchase_amount'].dropna().values\n",
    "control_mobile = data[(data['test_group'] == 'control')&(data['platform'] == 'mobile')]['purchase_amount'].dropna().values"
   ]
  },
  {
   "cell_type": "markdown",
   "metadata": {
    "id": "2kZnidOtbL1P"
   },
   "source": [
    "**2. Вызови функцию `bootstrap_ab` для каждого сегмента, передай ей нужные аргументы**\n",
    "   - `test = `\n",
    "   - `ctrl = `\n",
    "   - `stat_func = bs_stats.mean`\n",
    "   - `compare_func = bs_compare.difference`\n",
    "   - `return_distribution = True`"
   ]
  },
  {
   "cell_type": "code",
   "execution_count": 39,
   "metadata": {
    "id": "_3d_VHvpbL1P"
   },
   "outputs": [
    {
     "data": {
      "text/plain": [
       "array([263.45238634, 148.74724628, 149.55160928, ..., 296.76661902,\n",
       "       315.30822112, 162.85820066])"
      ]
     },
     "execution_count": 39,
     "metadata": {},
     "output_type": "execute_result"
    }
   ],
   "source": [
    "boot = bs.bootstrap_ab(test = test, ctrl = control\n",
    "                              , stat_func = bs_stats.mean\n",
    "                              , compare_func = bs_compare.difference\n",
    "                              , return_distribution=True)\n",
    "boot"
   ]
  },
  {
   "cell_type": "code",
   "execution_count": 40,
   "metadata": {
    "id": "vfIIQjwVbL1Q"
   },
   "outputs": [
    {
     "data": {
      "text/plain": [
       "array([187.08863728, 102.25525082, 263.04759461, ..., 188.9424444 ,\n",
       "       273.18652183, 201.25465563])"
      ]
     },
     "execution_count": 40,
     "metadata": {},
     "output_type": "execute_result"
    }
   ],
   "source": [
    "boot_pc = bs.bootstrap_ab(test = test_pc, ctrl = control_pc\n",
    "                              , stat_func = bs_stats.mean\n",
    "                              , compare_func = bs_compare.difference\n",
    "                              , return_distribution=True)\n",
    "boot_pc"
   ]
  },
  {
   "cell_type": "code",
   "execution_count": 41,
   "metadata": {
    "id": "EvRqr4YmbL1R"
   },
   "outputs": [
    {
     "data": {
      "text/plain": [
       "array([261.55194195, 327.57352819, 177.7274306 , ..., 319.69815458,\n",
       "       134.9771383 , 288.04031001])"
      ]
     },
     "execution_count": 41,
     "metadata": {},
     "output_type": "execute_result"
    }
   ],
   "source": [
    "boot_mobile = bs.bootstrap_ab(test = test_mobile, ctrl = control_mobile\n",
    "                              , stat_func = bs_stats.mean\n",
    "                              , compare_func = bs_compare.difference\n",
    "                              , return_distribution=True) \n",
    "boot_mobile"
   ]
  },
  {
   "cell_type": "markdown",
   "metadata": {
    "id": "48tQjFX3bL1R"
   },
   "source": [
    "**3. Задай размер доверительного интервала для каждого исследуемого сегмента 95% с помощью перцентилей**"
   ]
  },
  {
   "cell_type": "code",
   "execution_count": 42,
   "metadata": {
    "id": "gCCAbRnfbL1R"
   },
   "outputs": [],
   "source": [
    "borders = np.percentile(boot, [2.5, 97.5])\n",
    "borders_pc = np.percentile(boot_pc, [2.5, 97.5])\n",
    "borders_mobile = np.percentile(boot_mobile, [2.5, 97.5])"
   ]
  },
  {
   "cell_type": "markdown",
   "metadata": {
    "id": "VX-vFjvCbL1S"
   },
   "source": [
    "**4. Оцени, есть ли статистически значимое изменение по среднему чеку в каждом сегменте**\n",
    "\n",
    "   - Построй гистограмму распределения значений среднего чека.\n",
    "   - Выведи границы доверительного интервала линиями.\n",
    "   - Выведи ноль красной линией.\n",
    "   - Оставь комментарий, есть ли статистически значимое изменение по среднему чеку в каждом сегменте.\n",
    "   "
   ]
  },
  {
   "cell_type": "code",
   "execution_count": 43,
   "metadata": {
    "id": "yrzEZotTbL1S"
   },
   "outputs": [
    {
     "name": "stderr",
     "output_type": "stream",
     "text": [
      "C:\\Users\\Xenia\\anaconda3\\lib\\site-packages\\seaborn\\distributions.py:2619: FutureWarning: `distplot` is a deprecated function and will be removed in a future version. Please adapt your code to use either `displot` (a figure-level function with similar flexibility) or `histplot` (an axes-level function for histograms).\n",
      "  warnings.warn(msg, FutureWarning)\n"
     ]
    },
    {
     "data": {
      "image/png": "[encoded data removed]",
      "text/plain": [
       "<Figure size 432x288 with 1 Axes>"
      ]
     },
     "metadata": {
      "needs_background": "light"
     },
     "output_type": "display_data"
    }
   ],
   "source": [
    "sns.distplot(boot) \n",
    "plt.title('Bootstrap-распределение разниц среднего чека')\n",
    "plt.rcParams[\"figure.figsize\"] = (12, 6)\n",
    "plt.vlines(0, \n",
    "           ymin = 0, \n",
    "           ymax = 0.003, \n",
    "           linestyles= '--', \n",
    "           colors = 'red')\n",
    "plt.vlines(borders,\n",
    "           ymin = 0, \n",
    "           ymax = 0.003, \n",
    "           linestyles= '--', \n",
    "           colors = 'grey', \n",
    "           label = '95%-доверительный интервал')\n",
    "plt.legend()\n",
    "plt.show()"
   ]
  },
  {
   "cell_type": "code",
   "execution_count": 44,
   "metadata": {},
   "outputs": [
    {
     "name": "stderr",
     "output_type": "stream",
     "text": [
      "C:\\Users\\Xenia\\anaconda3\\lib\\site-packages\\seaborn\\distributions.py:2619: FutureWarning: `distplot` is a deprecated function and will be removed in a future version. Please adapt your code to use either `displot` (a figure-level function with similar flexibility) or `histplot` (an axes-level function for histograms).\n",
      "  warnings.warn(msg, FutureWarning)\n"
     ]
    },
    {
     "data": {
      "image/png": "[encoded data removed]",
      "text/plain": [
       "<Figure size 864x432 with 1 Axes>"
      ]
     },
     "metadata": {
      "needs_background": "light"
     },
     "output_type": "display_data"
    }
   ],
   "source": [
    "sns.distplot(boot_pc) \n",
    "plt.title('Bootstrap-распределение разниц среднего чека')\n",
    "plt.rcParams[\"figure.figsize\"] = (12, 6)\n",
    "plt.vlines(0, \n",
    "           ymin = 0, \n",
    "           ymax = 0.003, \n",
    "           linestyles= '--', \n",
    "           colors = 'red')\n",
    "plt.vlines(borders,\n",
    "           ymin = 0, \n",
    "           ymax = 0.003, \n",
    "           linestyles= '--', \n",
    "           colors = 'grey', \n",
    "           label = '95%-доверительный интервал')\n",
    "plt.legend()\n",
    "plt.show()"
   ]
  },
  {
   "cell_type": "code",
   "execution_count": 45,
   "metadata": {},
   "outputs": [],
   "source": [
    "#Да, внедрять изменения каталога нужно"
   ]
  },
  {
   "cell_type": "code",
   "execution_count": 46,
   "metadata": {},
   "outputs": [
    {
     "name": "stderr",
     "output_type": "stream",
     "text": [
      "C:\\Users\\Xenia\\anaconda3\\lib\\site-packages\\seaborn\\distributions.py:2619: FutureWarning: `distplot` is a deprecated function and will be removed in a future version. Please adapt your code to use either `displot` (a figure-level function with similar flexibility) or `histplot` (an axes-level function for histograms).\n",
      "  warnings.warn(msg, FutureWarning)\n"
     ]
    },
    {
     "data": {
      "image/png": "[encoded data removed]",
      "text/plain": [
       "<Figure size 864x432 with 1 Axes>"
      ]
     },
     "metadata": {
      "needs_background": "light"
     },
     "output_type": "display_data"
    }
   ],
   "source": [
    "sns.distplot(boot_mobile) \n",
    "plt.title('Bootstrap-распределение разниц среднего чека')\n",
    "plt.rcParams[\"figure.figsize\"] = (12, 6)\n",
    "plt.vlines(0, \n",
    "           ymin = 0, \n",
    "           ymax = 0.003, \n",
    "           linestyles= '--', \n",
    "           colors = 'red')\n",
    "plt.vlines(borders,\n",
    "           ymin = 0, \n",
    "           ymax = 0.003, \n",
    "           linestyles= '--', \n",
    "           colors = 'grey', \n",
    "           label = '95%-доверительный интервал')\n",
    "plt.legend()\n",
    "plt.show()"
   ]
  },
  {
   "cell_type": "markdown",
   "metadata": {
    "id": "feYlEGx_bL1S"
   },
   "source": [
    "## Задание 6. Сделай вывод по результатам проведенного теста (заданий 2–5)\n",
    "\n",
    "Нужно ли внедрять изменение каталога? Почему?"
   ]
  },
  {
   "cell_type": "markdown",
   "metadata": {
    "id": "L3mfyEI4bL1S"
   },
   "source": [
    "# 🎉🎉🎉 Поздравляем, ты великолепен! "
   ]
  }
 ],
 "metadata": {
  "colab": {
   "name": "Skills_Python_4.1_homework.ipynb",
   "provenance": []
  },
  "kernelspec": {
   "display_name": "Python 3 (ipykernel)",
   "language": "python",
   "name": "python3"
  },
  "language_info": {
   "codemirror_mode": {
    "name": "ipython",
    "version": 3
   },
   "file_extension": ".py",
   "mimetype": "text/x-python",
   "name": "python",
   "nbconvert_exporter": "python",
   "pygments_lexer": "ipython3",
   "version": "3.9.12"
  }
 },
 "nbformat": 4,
 "nbformat_minor": 1
}
